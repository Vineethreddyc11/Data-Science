{
 "cells": [
  {
   "cell_type": "markdown",
   "id": "20944c55",
   "metadata": {},
   "source": [
    "# Assignment 2 "
   ]
  },
  {
   "cell_type": "markdown",
   "id": "1b6c93b3",
   "metadata": {},
   "source": [
    "## 1.What are the two values of the Boolean data type? How do you write them?"
   ]
  },
  {
   "attachments": {},
   "cell_type": "markdown",
   "id": "793769bd",
   "metadata": {},
   "source": [
    "-  Two vales of the Boolean data type are True and False. True is represented as 1 and False is represented as 0."
   ]
  },
  {
   "cell_type": "code",
   "execution_count": 2,
   "id": "2fa61e17",
   "metadata": {},
   "outputs": [
    {
     "data": {
      "text/plain": [
       "bool"
      ]
     },
     "execution_count": 2,
     "metadata": {},
     "output_type": "execute_result"
    }
   ],
   "source": [
    "a = True\n",
    "type(a)"
   ]
  },
  {
   "cell_type": "code",
   "execution_count": 3,
   "id": "25e66b2a",
   "metadata": {},
   "outputs": [
    {
     "data": {
      "text/plain": [
       "bool"
      ]
     },
     "execution_count": 3,
     "metadata": {},
     "output_type": "execute_result"
    }
   ],
   "source": [
    "b = False\n",
    "type(b)"
   ]
  },
  {
   "cell_type": "markdown",
   "id": "94b67876",
   "metadata": {},
   "source": [
    "## 2. What are the three different types of Boolean operators? "
   ]
  },
  {
   "cell_type": "markdown",
   "id": "c03c35ec",
   "metadata": {},
   "source": [
    "- The three different types of Boolean operators : and, or, not."
   ]
  },
  {
   "cell_type": "code",
   "execution_count": 4,
   "id": "84614896",
   "metadata": {},
   "outputs": [],
   "source": [
    "a = 100\n",
    "b = 150"
   ]
  },
  {
   "cell_type": "code",
   "execution_count": 5,
   "id": "dab77875",
   "metadata": {},
   "outputs": [
    {
     "data": {
      "text/plain": [
       "True"
      ]
     },
     "execution_count": 5,
     "metadata": {},
     "output_type": "execute_result"
    }
   ],
   "source": [
    "a > 50 and b > 100"
   ]
  },
  {
   "cell_type": "code",
   "execution_count": 6,
   "id": "21aa7228",
   "metadata": {},
   "outputs": [
    {
     "data": {
      "text/plain": [
       "True"
      ]
     },
     "execution_count": 6,
     "metadata": {},
     "output_type": "execute_result"
    }
   ],
   "source": [
    "a>50 or b>300"
   ]
  },
  {
   "cell_type": "code",
   "execution_count": 8,
   "id": "a28c2f09",
   "metadata": {},
   "outputs": [
    {
     "data": {
      "text/plain": [
       "True"
      ]
     },
     "execution_count": 8,
     "metadata": {},
     "output_type": "execute_result"
    }
   ],
   "source": [
    "not(a>200)"
   ]
  },
  {
   "cell_type": "markdown",
   "id": "6f2159bb",
   "metadata": {},
   "source": [
    "## 3. Make a list of each Boolean operator's truth tables (i.e. every possible combination of Boolean values for the operator and what it evaluate )."
   ]
  },
  {
   "cell_type": "markdown",
   "id": "9c183c9b",
   "metadata": {},
   "source": [
    "#### Truth table for and condition\n",
    "- and - operator returns true when all the conditions are true otherwise returns false.\n"
   ]
  },
  {
   "cell_type": "code",
   "execution_count": 14,
   "id": "6396adf4",
   "metadata": {},
   "outputs": [
    {
     "data": {
      "text/plain": [
       "True"
      ]
     },
     "execution_count": 14,
     "metadata": {},
     "output_type": "execute_result"
    }
   ],
   "source": [
    "True and True "
   ]
  },
  {
   "cell_type": "code",
   "execution_count": 15,
   "id": "4942462d",
   "metadata": {},
   "outputs": [
    {
     "data": {
      "text/plain": [
       "False"
      ]
     },
     "execution_count": 15,
     "metadata": {},
     "output_type": "execute_result"
    }
   ],
   "source": [
    "True and False"
   ]
  },
  {
   "cell_type": "code",
   "execution_count": 16,
   "id": "747a7495",
   "metadata": {},
   "outputs": [
    {
     "data": {
      "text/plain": [
       "False"
      ]
     },
     "execution_count": 16,
     "metadata": {},
     "output_type": "execute_result"
    }
   ],
   "source": [
    "False and True"
   ]
  },
  {
   "cell_type": "code",
   "execution_count": 17,
   "id": "e7b5334b",
   "metadata": {},
   "outputs": [
    {
     "data": {
      "text/plain": [
       "False"
      ]
     },
     "execution_count": 17,
     "metadata": {},
     "output_type": "execute_result"
    }
   ],
   "source": [
    "False and False"
   ]
  },
  {
   "cell_type": "markdown",
   "id": "f629b7c2",
   "metadata": {},
   "source": [
    "#### Truth table for or condition\n",
    "- or - returns true if atleast one codition satisifies otherwise false."
   ]
  },
  {
   "cell_type": "code",
   "execution_count": 18,
   "id": "7760658a",
   "metadata": {},
   "outputs": [
    {
     "data": {
      "text/plain": [
       "True"
      ]
     },
     "execution_count": 18,
     "metadata": {},
     "output_type": "execute_result"
    }
   ],
   "source": [
    "True or True"
   ]
  },
  {
   "cell_type": "code",
   "execution_count": 19,
   "id": "271fe970",
   "metadata": {},
   "outputs": [
    {
     "data": {
      "text/plain": [
       "True"
      ]
     },
     "execution_count": 19,
     "metadata": {},
     "output_type": "execute_result"
    }
   ],
   "source": [
    "True or False"
   ]
  },
  {
   "cell_type": "code",
   "execution_count": 20,
   "id": "93d678f9",
   "metadata": {},
   "outputs": [
    {
     "data": {
      "text/plain": [
       "True"
      ]
     },
     "execution_count": 20,
     "metadata": {},
     "output_type": "execute_result"
    }
   ],
   "source": [
    "False or True"
   ]
  },
  {
   "cell_type": "code",
   "execution_count": 21,
   "id": "266063e3",
   "metadata": {},
   "outputs": [
    {
     "data": {
      "text/plain": [
       "False"
      ]
     },
     "execution_count": 21,
     "metadata": {},
     "output_type": "execute_result"
    }
   ],
   "source": [
    "False or False"
   ]
  },
  {
   "cell_type": "markdown",
   "id": "f455194f",
   "metadata": {},
   "source": [
    "#### Truth table for not condition"
   ]
  },
  {
   "cell_type": "code",
   "execution_count": 22,
   "id": "f1d4b9dc",
   "metadata": {},
   "outputs": [
    {
     "data": {
      "text/plain": [
       "False"
      ]
     },
     "execution_count": 22,
     "metadata": {},
     "output_type": "execute_result"
    }
   ],
   "source": [
    "not(True)"
   ]
  },
  {
   "cell_type": "code",
   "execution_count": 23,
   "id": "16e35ca1",
   "metadata": {},
   "outputs": [
    {
     "data": {
      "text/plain": [
       "True"
      ]
     },
     "execution_count": 23,
     "metadata": {},
     "output_type": "execute_result"
    }
   ],
   "source": [
    "not(False)"
   ]
  },
  {
   "cell_type": "markdown",
   "id": "bb016b09",
   "metadata": {},
   "source": [
    "## 4. What are the values of the following expressions?\n",
    "- (5 > 4) and (3 == 5)\n",
    "- not (5 > 4)\n",
    "- (5 > 4) or (3 == 5)\n",
    "- not ((5 > 4) or (3 == 5))\n",
    "- (True and True) and (True == False)\n",
    "- (not False) or (not True)\n"
   ]
  },
  {
   "cell_type": "code",
   "execution_count": 29,
   "id": "06902fd9",
   "metadata": {},
   "outputs": [
    {
     "data": {
      "text/plain": [
       "False"
      ]
     },
     "execution_count": 29,
     "metadata": {},
     "output_type": "execute_result"
    }
   ],
   "source": [
    "(5 > 4) and (3 == 5) # True and False"
   ]
  },
  {
   "cell_type": "code",
   "execution_count": 25,
   "id": "8ed306e7",
   "metadata": {},
   "outputs": [
    {
     "data": {
      "text/plain": [
       "False"
      ]
     },
     "execution_count": 25,
     "metadata": {},
     "output_type": "execute_result"
    }
   ],
   "source": [
    "not (5 > 4) #not(True)"
   ]
  },
  {
   "cell_type": "code",
   "execution_count": 26,
   "id": "193ac49a",
   "metadata": {},
   "outputs": [
    {
     "data": {
      "text/plain": [
       "True"
      ]
     },
     "execution_count": 26,
     "metadata": {},
     "output_type": "execute_result"
    }
   ],
   "source": [
    "(5 > 4) or (3 == 5) #True or False"
   ]
  },
  {
   "cell_type": "code",
   "execution_count": 27,
   "id": "11bd5eb5",
   "metadata": {},
   "outputs": [
    {
     "data": {
      "text/plain": [
       "False"
      ]
     },
     "execution_count": 27,
     "metadata": {},
     "output_type": "execute_result"
    }
   ],
   "source": [
    "not ((5 > 4) or (3 == 5)) #not(True) or False"
   ]
  },
  {
   "cell_type": "code",
   "execution_count": 30,
   "id": "88bb4076",
   "metadata": {},
   "outputs": [
    {
     "data": {
      "text/plain": [
       "False"
      ]
     },
     "execution_count": 30,
     "metadata": {},
     "output_type": "execute_result"
    }
   ],
   "source": [
    "(True and True) and (True == False) #True and False"
   ]
  },
  {
   "cell_type": "code",
   "execution_count": 32,
   "id": "f00cd43d",
   "metadata": {},
   "outputs": [
    {
     "data": {
      "text/plain": [
       "True"
      ]
     },
     "execution_count": 32,
     "metadata": {},
     "output_type": "execute_result"
    }
   ],
   "source": [
    "(not False) or (not True) #True or False"
   ]
  },
  {
   "cell_type": "markdown",
   "id": "124af4b7",
   "metadata": {},
   "source": [
    "## 5. What are the six comparison operators?"
   ]
  },
  {
   "cell_type": "raw",
   "id": "f7bfd7cf",
   "metadata": {},
   "source": [
    "1. == Equal\n",
    "2. != Not equal\n",
    "3. > Greater than\n",
    "4. < Less than\n",
    "5. >= Greater than or equal to\n",
    "6. <= Less than or equal to"
   ]
  },
  {
   "cell_type": "markdown",
   "id": "8c64adfe",
   "metadata": {},
   "source": [
    "## 6. How do you tell the difference between the equal to and assignment operators?Describe a condition and when you would use one."
   ]
  },
  {
   "cell_type": "markdown",
   "id": "f59c793c",
   "metadata": {},
   "source": [
    "-  The '=='(equal to) is used to check whether the two given operands are equal or not.\n",
    "- The '='(assignment operator) is used to assign the vales."
   ]
  },
  {
   "cell_type": "code",
   "execution_count": 33,
   "id": "baac8634",
   "metadata": {},
   "outputs": [
    {
     "name": "stdout",
     "output_type": "stream",
     "text": [
      "A is 10\n"
     ]
    }
   ],
   "source": [
    "a=10 #Assignment operator\n",
    "if a==10: #Equal to\n",
    "    print('A is 10')"
   ]
  },
  {
   "cell_type": "markdown",
   "id": "e9ad66b7",
   "metadata": {},
   "source": [
    "## 7. Identify the three blocks in this code:"
   ]
  },
  {
   "cell_type": "markdown",
   "id": "60fa1cfc",
   "metadata": {},
   "source": [
    "- spam = 0 \n",
    "- if spam == 10:\n",
    "- print('eggs')\n",
    "- if spam > 5:\n",
    "- print('bacon')\n",
    "- else:\n",
    "- print('ham')\n",
    "- print('spam')\n",
    "- print('spam')\n"
   ]
  },
  {
   "cell_type": "code",
   "execution_count": 37,
   "id": "cbd13346",
   "metadata": {},
   "outputs": [
    {
     "name": "stdout",
     "output_type": "stream",
     "text": [
      "ham\n",
      "spam\n",
      "spam\n"
     ]
    }
   ],
   "source": [
    "spam = 0\n",
    "if spam == 10:\n",
    "    print('eggs') #block 1 \n",
    "if spam > 5:\n",
    "    print('bacon')#block 2 \n",
    "else:\n",
    "    print('ham')#block 3\n",
    "print('spam')\n",
    "print('spam')\n"
   ]
  },
  {
   "cell_type": "markdown",
   "id": "844a5c93",
   "metadata": {},
   "source": [
    "## 8. Write code that prints Hello if 1 is stored in spam, prints Howdy if 2 is stored in spam, and prints Greetings! if anything else is stored in spam."
   ]
  },
  {
   "cell_type": "code",
   "execution_count": 39,
   "id": "924319ad",
   "metadata": {},
   "outputs": [
    {
     "name": "stdout",
     "output_type": "stream",
     "text": [
      "Enter Value : 2\n",
      "Howdy\n"
     ]
    }
   ],
   "source": [
    "spam = int(input(\"Enter Value : \"))\n",
    "\n",
    "if spam == 1:\n",
    "    print(\"Hello\")\n",
    "elif spam == 2 :\n",
    "    print(\"Howdy\")\n",
    "else:\n",
    "    print(\"Greetings!\")"
   ]
  },
  {
   "cell_type": "markdown",
   "id": "adde5454",
   "metadata": {},
   "source": [
    "## 9.If your programme is stuck in an endless loop, what keys you’ll press?"
   ]
  },
  {
   "cell_type": "markdown",
   "id": "0758af39",
   "metadata": {},
   "source": [
    "- ctrl + c"
   ]
  },
  {
   "cell_type": "markdown",
   "id": "5b0ee708",
   "metadata": {},
   "source": [
    "## 10. How can you tell the difference between break and continue?"
   ]
  },
  {
   "cell_type": "markdown",
   "id": "69ed5026",
   "metadata": {},
   "source": [
    "- Break - break statement will stop the loop even if th condition is true.\n",
    "- Continue - continue statement stop the current iteration and continue with the next iteration."
   ]
  },
  {
   "cell_type": "markdown",
   "id": "55c2fecc",
   "metadata": {},
   "source": [
    "## 11. In a for loop, what is the difference between range(10), range(0, 10), and range(0, 10, 1)?"
   ]
  },
  {
   "cell_type": "markdown",
   "id": "5f3b51ff",
   "metadata": {},
   "source": [
    "- In range(n) values always start from 0 and goes till n-1. range(10) will generate a data from 0 to (last value - 1) that is 9. "
   ]
  },
  {
   "cell_type": "code",
   "execution_count": 59,
   "id": "b8173d8a",
   "metadata": {},
   "outputs": [
    {
     "name": "stdout",
     "output_type": "stream",
     "text": [
      "0\n",
      "1\n",
      "2\n",
      "3\n",
      "4\n",
      "5\n",
      "6\n",
      "7\n",
      "8\n",
      "9\n"
     ]
    }
   ],
   "source": [
    "for i in range(10):\n",
    "    print (i)"
   ]
  },
  {
   "cell_type": "markdown",
   "id": "126e35e0",
   "metadata": {},
   "source": [
    "- range(start,stop) gives values from (start value) to (stop value - 1). range(0,10) will generate data from 0 to 9."
   ]
  },
  {
   "cell_type": "code",
   "execution_count": 60,
   "id": "6e34626e",
   "metadata": {},
   "outputs": [
    {
     "name": "stdout",
     "output_type": "stream",
     "text": [
      "0\n",
      "1\n",
      "2\n",
      "3\n",
      "4\n",
      "5\n",
      "6\n",
      "7\n",
      "8\n",
      "9\n"
     ]
    }
   ],
   "source": [
    "for i in range(0,10):\n",
    "    print(i)"
   ]
  },
  {
   "cell_type": "markdown",
   "id": "92cdb214",
   "metadata": {},
   "source": [
    "- range(start, stop, step) gives values from start value to (stop value - 1) with step value. range(0,10,1) will give 0 to 9 with increment of 1. "
   ]
  },
  {
   "cell_type": "code",
   "execution_count": 65,
   "id": "283128d4",
   "metadata": {},
   "outputs": [
    {
     "name": "stdout",
     "output_type": "stream",
     "text": [
      "0\n",
      "1\n",
      "2\n",
      "3\n",
      "4\n",
      "5\n",
      "6\n",
      "7\n",
      "8\n",
      "9\n"
     ]
    }
   ],
   "source": [
    "for i in range (0,10,1):\n",
    "    print(i)"
   ]
  },
  {
   "cell_type": "markdown",
   "id": "d1f69e95",
   "metadata": {},
   "source": [
    "## 12. Write a short program that prints the numbers 1 to 10 using a for loop. Then write an equivalent program that prints the numbers 1 to 10 using a while loop."
   ]
  },
  {
   "cell_type": "code",
   "execution_count": 69,
   "id": "8198cfdf",
   "metadata": {},
   "outputs": [
    {
     "name": "stdout",
     "output_type": "stream",
     "text": [
      "1\n",
      "2\n",
      "3\n",
      "4\n",
      "5\n",
      "6\n",
      "7\n",
      "8\n",
      "9\n",
      "10\n"
     ]
    }
   ],
   "source": [
    "#printing the numbers 1 to 10 using a for loop\n",
    "for i in range(1,11):\n",
    "    print(i)"
   ]
  },
  {
   "cell_type": "code",
   "execution_count": 70,
   "id": "abff343e",
   "metadata": {},
   "outputs": [
    {
     "name": "stdout",
     "output_type": "stream",
     "text": [
      "1\n",
      "2\n",
      "3\n",
      "4\n",
      "5\n",
      "6\n",
      "7\n",
      "8\n",
      "9\n",
      "10\n"
     ]
    }
   ],
   "source": [
    "#printing the numbers 1 to 10 using a while loop\n",
    "i=1\n",
    "while i<=10:\n",
    "    print(i)\n",
    "    i=i+1"
   ]
  },
  {
   "cell_type": "markdown",
   "id": "63d79173",
   "metadata": {},
   "source": [
    "## 13. If you had a function named bacon() inside a module named spam, how would you call it after importing spam?"
   ]
  },
  {
   "cell_type": "markdown",
   "id": "7b11652a",
   "metadata": {},
   "source": [
    "- spam.bacon()"
   ]
  },
  {
   "cell_type": "code",
   "execution_count": null,
   "id": "edb44631",
   "metadata": {},
   "outputs": [],
   "source": []
  }
 ],
 "metadata": {
  "kernelspec": {
   "display_name": "Python 3",
   "language": "python",
   "name": "python3"
  },
  "language_info": {
   "codemirror_mode": {
    "name": "ipython",
    "version": 3
   },
   "file_extension": ".py",
   "mimetype": "text/x-python",
   "name": "python",
   "nbconvert_exporter": "python",
   "pygments_lexer": "ipython3",
   "version": "3.8.8"
  }
 },
 "nbformat": 4,
 "nbformat_minor": 5
}
