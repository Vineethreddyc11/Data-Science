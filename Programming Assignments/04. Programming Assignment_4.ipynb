{
 "cells": [
  {
   "cell_type": "markdown",
   "id": "9b8210b6",
   "metadata": {},
   "source": [
    "## 1. Write a Python Program to Find the Factorial of a Number?"
   ]
  },
  {
   "cell_type": "code",
   "execution_count": 6,
   "id": "cfc37c9b",
   "metadata": {},
   "outputs": [],
   "source": [
    "# factorial of given number\n",
    "def factorial(n):\n",
    "    \"\"\"This function prints factorial of a given number\"\"\"\n",
    "    if (n==0 or n==1):\n",
    "        return 1\n",
    "    else:\n",
    "        return n*factorial(n-1)"
   ]
  },
  {
   "cell_type": "code",
   "execution_count": 7,
   "id": "6771850f",
   "metadata": {},
   "outputs": [
    {
     "data": {
      "text/plain": [
       "120"
      ]
     },
     "execution_count": 7,
     "metadata": {},
     "output_type": "execute_result"
    }
   ],
   "source": [
    "factorial(5)"
   ]
  },
  {
   "cell_type": "code",
   "execution_count": 8,
   "id": "00867c87",
   "metadata": {},
   "outputs": [
    {
     "name": "stdout",
     "output_type": "stream",
     "text": [
      "Enter number:5\n",
      "Factorial of 5 is 120\n"
     ]
    }
   ],
   "source": [
    "num = int(input(\"Enter number:\"))\n",
    "result = factorial(num)\n",
    "print(\"Factorial of\", num, \"is\", result)"
   ]
  },
  {
   "cell_type": "markdown",
   "id": "ce7644bd",
   "metadata": {},
   "source": [
    "## 2. Write a Python Program to Display the multiplication Table?"
   ]
  },
  {
   "cell_type": "code",
   "execution_count": 9,
   "id": "70fdfc19",
   "metadata": {},
   "outputs": [],
   "source": [
    "def table(n):\n",
    "    \"\"\" This function prints multiplication table of a given number\"\"\"\n",
    "    for i in range(1,11): \n",
    "        print(n,'x', i, '=', n*i) "
   ]
  },
  {
   "cell_type": "code",
   "execution_count": 10,
   "id": "9a120cab",
   "metadata": {},
   "outputs": [
    {
     "name": "stdout",
     "output_type": "stream",
     "text": [
      "6 x 1 = 6\n",
      "6 x 2 = 12\n",
      "6 x 3 = 18\n",
      "6 x 4 = 24\n",
      "6 x 5 = 30\n",
      "6 x 6 = 36\n",
      "6 x 7 = 42\n",
      "6 x 8 = 48\n",
      "6 x 9 = 54\n",
      "6 x 10 = 60\n"
     ]
    }
   ],
   "source": [
    "table(6)"
   ]
  },
  {
   "cell_type": "code",
   "execution_count": 11,
   "id": "82373762",
   "metadata": {},
   "outputs": [
    {
     "name": "stdout",
     "output_type": "stream",
     "text": [
      "Enter number : 6\n",
      "6 x 1 = 6\n",
      "6 x 2 = 12\n",
      "6 x 3 = 18\n",
      "6 x 4 = 24\n",
      "6 x 5 = 30\n",
      "6 x 6 = 36\n",
      "6 x 7 = 42\n",
      "6 x 8 = 48\n",
      "6 x 9 = 54\n",
      "6 x 10 = 60\n"
     ]
    }
   ],
   "source": [
    "num = int(input(\"Enter number : \"))\n",
    "table(num)"
   ]
  },
  {
   "cell_type": "markdown",
   "id": "b66b85cc",
   "metadata": {},
   "source": [
    "## 3. Write a Python Program to Print the Fibonacci sequence?"
   ]
  },
  {
   "cell_type": "code",
   "execution_count": 3,
   "id": "dbcdeb3c",
   "metadata": {},
   "outputs": [],
   "source": [
    "#Fibonacci Sequence\n",
    "\n",
    "def fibonacci(n):\n",
    "    \"\"\"This function prints Fibonacci series for given number \"\"\"\n",
    "    if n<0:\n",
    "        print(\"Incorrect input\")\n",
    "    elif n==0:\n",
    "        return 0\n",
    "    elif n ==1 or n ==2:\n",
    "        return 1\n",
    "    else:\n",
    "        return (fibonacci(n-2)+fibonacci(n-1))"
   ]
  },
  {
   "cell_type": "code",
   "execution_count": 4,
   "id": "1c25a4c3",
   "metadata": {},
   "outputs": [
    {
     "name": "stdout",
     "output_type": "stream",
     "text": [
      "Enter terms :9\n",
      "0\n",
      "1\n",
      "1\n",
      "2\n",
      "3\n",
      "5\n",
      "8\n",
      "13\n",
      "21\n"
     ]
    }
   ],
   "source": [
    "terms = int(input(\"Enter terms :\"))\n",
    "\n",
    "for i in range (0,terms):\n",
    "    print(fibonacci(i))"
   ]
  },
  {
   "cell_type": "markdown",
   "id": "0d777dd9",
   "metadata": {},
   "source": [
    "## 4. Write a Python Program to Check Armstrong Number?"
   ]
  },
  {
   "cell_type": "code",
   "execution_count": 16,
   "id": "9950bb71",
   "metadata": {},
   "outputs": [],
   "source": [
    "def armstrong(num):\n",
    "    \n",
    "    # Changing num variable to string, and calculate the length\n",
    "    order = len(str(num))\n",
    "    #Initialize sum\n",
    "    sum = 0\n",
    "    original = num\n",
    "    while num > 0 :\n",
    "        digit = num % 10\n",
    "        sum += digit** order\n",
    "        num = num//10\n",
    "        \n",
    "    if sum == original:\n",
    "        return \"It is armstrong number\"\n",
    "    else:\n",
    "        return \"It is not armstrong number\""
   ]
  },
  {
   "cell_type": "code",
   "execution_count": 20,
   "id": "23d85ab6",
   "metadata": {},
   "outputs": [
    {
     "data": {
      "text/plain": [
       "'It is armstrong number'"
      ]
     },
     "execution_count": 20,
     "metadata": {},
     "output_type": "execute_result"
    }
   ],
   "source": [
    "armstrong(407)"
   ]
  },
  {
   "cell_type": "code",
   "execution_count": 21,
   "id": "a34969e2",
   "metadata": {},
   "outputs": [
    {
     "name": "stdout",
     "output_type": "stream",
     "text": [
      "Enter number : 407\n"
     ]
    },
    {
     "data": {
      "text/plain": [
       "'It is armstrong number'"
      ]
     },
     "execution_count": 21,
     "metadata": {},
     "output_type": "execute_result"
    }
   ],
   "source": [
    "num = int(input(\"Enter number : \"))\n",
    "armstrong(num)"
   ]
  },
  {
   "cell_type": "markdown",
   "id": "e1620a43",
   "metadata": {},
   "source": [
    "## 5. Write a Python Program to Find Armstrong Number in an Interval?"
   ]
  },
  {
   "cell_type": "code",
   "execution_count": 42,
   "id": "d09f6718",
   "metadata": {},
   "outputs": [
    {
     "name": "stdout",
     "output_type": "stream",
     "text": [
      "Enter lower limit : 100\n",
      "Enter upper limit : 1000\n",
      "153\n",
      "370\n",
      "371\n",
      "407\n"
     ]
    }
   ],
   "source": [
    "lower = int(input(\"Enter lower limit : \"))\n",
    "upper = int(input(\"Enter upper limit : \"))\n",
    "\n",
    "for num in range(lower, upper + 1):\n",
    "\n",
    "   # order of number\n",
    "    order = len(str(num))\n",
    "    \n",
    "   # initialize sum\n",
    "    sum = 0\n",
    "\n",
    "    temp = num\n",
    "    while temp > 0:\n",
    "        digit = temp % 10\n",
    "        sum += digit ** order\n",
    "        temp //= 10\n",
    "\n",
    "    if num == sum:\n",
    "        print(num)"
   ]
  },
  {
   "cell_type": "markdown",
   "id": "ef83fe25",
   "metadata": {},
   "source": [
    "## 6. Write a Python Program to Find the Sum of Natural Numbers?"
   ]
  },
  {
   "cell_type": "code",
   "execution_count": 2,
   "id": "0c75fd3e",
   "metadata": {},
   "outputs": [],
   "source": [
    "def findSum(num):  \n",
    "    sum = 0\n",
    "    x = 1\n",
    "    while x <= num:\n",
    "        sum += x\n",
    "        x += 1\n",
    "    return sum"
   ]
  },
  {
   "cell_type": "code",
   "execution_count": 3,
   "id": "0397da18",
   "metadata": {},
   "outputs": [
    {
     "name": "stdout",
     "output_type": "stream",
     "text": [
      "Enter a number: 6\n",
      "The sum of natural number = 21\n"
     ]
    }
   ],
   "source": [
    "num = int(input('Enter a number: '))\n",
    "\n",
    "print('The sum of natural number =', findSum(num))"
   ]
  },
  {
   "cell_type": "code",
   "execution_count": null,
   "id": "87df1be7",
   "metadata": {},
   "outputs": [],
   "source": []
  }
 ],
 "metadata": {
  "kernelspec": {
   "display_name": "Python 3",
   "language": "python",
   "name": "python3"
  },
  "language_info": {
   "codemirror_mode": {
    "name": "ipython",
    "version": 3
   },
   "file_extension": ".py",
   "mimetype": "text/x-python",
   "name": "python",
   "nbconvert_exporter": "python",
   "pygments_lexer": "ipython3",
   "version": "3.8.8"
  }
 },
 "nbformat": 4,
 "nbformat_minor": 5
}
