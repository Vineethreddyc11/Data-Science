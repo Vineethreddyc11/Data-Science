{
 "cells": [
  {
   "cell_type": "markdown",
   "id": "e52f00f6",
   "metadata": {},
   "source": [
    "## 1. Write a Python program to convert kilometers to miles?"
   ]
  },
  {
   "cell_type": "code",
   "execution_count": 8,
   "id": "84f4bce1",
   "metadata": {},
   "outputs": [
    {
     "name": "stdout",
     "output_type": "stream",
     "text": [
      "Enter Kilometers : 10\n",
      "Number of Miles =  6.2\n"
     ]
    }
   ],
   "source": [
    "km = float(input(\"Enter Kilometers : \"))\n",
    "\n",
    "miles = km * 0.62\n",
    "print(\"Number of Miles = \", miles)"
   ]
  },
  {
   "cell_type": "markdown",
   "id": "e2da88a5",
   "metadata": {},
   "source": [
    "## 2. Write a Python program to convert Celsius to Fahrenheit?"
   ]
  },
  {
   "cell_type": "code",
   "execution_count": 3,
   "id": "85c3a2bc",
   "metadata": {},
   "outputs": [
    {
     "name": "stdout",
     "output_type": "stream",
     "text": [
      "Enter temperature in celsius : 10\n",
      "Temperature in Fahrenheit : 50.0\n"
     ]
    }
   ],
   "source": [
    "celsius = float(input(\"Enter temperature in celsius : \"))\n",
    "\n",
    "fah = (celsius*9/5)+32\n",
    "print(\"Temperature in Fahrenheit :\", fah)"
   ]
  },
  {
   "cell_type": "markdown",
   "id": "1c4c0751",
   "metadata": {},
   "source": [
    "## 3. Write a Python program to display calendar?"
   ]
  },
  {
   "cell_type": "code",
   "execution_count": 2,
   "id": "795cef04",
   "metadata": {},
   "outputs": [
    {
     "name": "stdout",
     "output_type": "stream",
     "text": [
      "Enter year :2022\n",
      "Enter month : 07\n",
      "     July 2022\n",
      "Mo Tu We Th Fr Sa Su\n",
      "             1  2  3\n",
      " 4  5  6  7  8  9 10\n",
      "11 12 13 14 15 16 17\n",
      "18 19 20 21 22 23 24\n",
      "25 26 27 28 29 30 31\n",
      "\n"
     ]
    }
   ],
   "source": [
    "import calendar\n",
    "\n",
    "year = int(input(\"Enter year :\"))\n",
    "mon = int(input(\"Enter month : \"))\n",
    "\n",
    "print(calendar.month(year,mon))"
   ]
  },
  {
   "cell_type": "markdown",
   "id": "3b99b8da",
   "metadata": {},
   "source": [
    "## 4. Write a Python program to solve quadratic equation?"
   ]
  },
  {
   "cell_type": "code",
   "execution_count": 6,
   "id": "2cdc5448",
   "metadata": {},
   "outputs": [
    {
     "name": "stdout",
     "output_type": "stream",
     "text": [
      "Enter a: 2\n",
      "Enter b: 3\n",
      "Enter c: 4\n",
      "Answer :  (-0.75-1.1989578808281798j) (-0.75+1.1989578808281798j)\n"
     ]
    }
   ],
   "source": [
    "import cmath  \n",
    "a = float(input('Enter a: '))  \n",
    "b = float(input('Enter b: '))  \n",
    "c = float(input('Enter c: '))  \n",
    "\n",
    "\n",
    "d = (b**2) - (4*a*c)  \n",
    "  \n",
    "sol1 = (-b-cmath.sqrt(d))/(2*a)  \n",
    "sol2 = (-b+cmath.sqrt(d))/(2*a)  \n",
    "print('Answer : ',sol1,sol2)"
   ]
  },
  {
   "cell_type": "markdown",
   "id": "022e6080",
   "metadata": {},
   "source": [
    "## 5. Write a Python program to swap two variables without temp variable?"
   ]
  },
  {
   "cell_type": "code",
   "execution_count": 7,
   "id": "543b8079",
   "metadata": {},
   "outputs": [
    {
     "name": "stdout",
     "output_type": "stream",
     "text": [
      "33 22\n"
     ]
    }
   ],
   "source": [
    "a = 22\n",
    "b = 33\n",
    "a,b = b,a\n",
    "print(a,b)"
   ]
  },
  {
   "cell_type": "code",
   "execution_count": 6,
   "id": "197f6224",
   "metadata": {},
   "outputs": [
    {
     "name": "stdout",
     "output_type": "stream",
     "text": [
      "a value before swapping -  33 and after swapping -  22\n",
      "b value before swapping -  22 and after swapping -  33\n"
     ]
    }
   ],
   "source": [
    "print(\"a value before swapping - \" ,a, \"and after swapping - \", b)\n",
    "print(\"b value before swapping - \" ,b, \"and after swapping - \", a)"
   ]
  },
  {
   "cell_type": "code",
   "execution_count": null,
   "id": "90098d91",
   "metadata": {},
   "outputs": [],
   "source": []
  }
 ],
 "metadata": {
  "kernelspec": {
   "display_name": "Python 3",
   "language": "python",
   "name": "python3"
  },
  "language_info": {
   "codemirror_mode": {
    "name": "ipython",
    "version": 3
   },
   "file_extension": ".py",
   "mimetype": "text/x-python",
   "name": "python",
   "nbconvert_exporter": "python",
   "pygments_lexer": "ipython3",
   "version": "3.8.8"
  }
 },
 "nbformat": 4,
 "nbformat_minor": 5
}
