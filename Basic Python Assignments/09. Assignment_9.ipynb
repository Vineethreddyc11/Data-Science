{
 "cells": [
  {
   "cell_type": "markdown",
   "id": "8be6def8",
   "metadata": {},
   "source": [
    "## 1. To what does a relative path refer?"
   ]
  },
  {
   "cell_type": "markdown",
   "id": "ad209fff",
   "metadata": {},
   "source": [
    "- A relative path is the path that is relative to the working directory location in computer."
   ]
  },
  {
   "cell_type": "code",
   "execution_count": 1,
   "id": "6082ec06",
   "metadata": {},
   "outputs": [
    {
     "data": {
      "text/plain": [
       "'/Users/vineethreddychinthala'"
      ]
     },
     "execution_count": 1,
     "metadata": {},
     "output_type": "execute_result"
    }
   ],
   "source": [
    "pwd"
   ]
  },
  {
   "cell_type": "markdown",
   "id": "a69f38b4",
   "metadata": {},
   "source": [
    "- '/Users/vineethreddychinthala'is current working directory."
   ]
  },
  {
   "cell_type": "markdown",
   "id": "9fb57886",
   "metadata": {},
   "source": [
    "## 2. What does an absolute path start with your operating system?"
   ]
  },
  {
   "cell_type": "markdown",
   "id": "07ac2adf",
   "metadata": {},
   "source": [
    "- An absolute path start with /"
   ]
  },
  {
   "cell_type": "markdown",
   "id": "09e11d6f",
   "metadata": {},
   "source": [
    "## 3. What do the functions os.getcwd() and os.chdir() do?"
   ]
  },
  {
   "cell_type": "markdown",
   "id": "59f9a6e4",
   "metadata": {},
   "source": [
    "- To know the current working directory of the file, getcwd() method can be used"
   ]
  },
  {
   "cell_type": "code",
   "execution_count": 2,
   "id": "b3aecd0a",
   "metadata": {},
   "outputs": [
    {
     "data": {
      "text/plain": [
       "'/Users/vineethreddychinthala'"
      ]
     },
     "execution_count": 2,
     "metadata": {},
     "output_type": "execute_result"
    }
   ],
   "source": [
    "import os\n",
    "os.getcwd()"
   ]
  },
  {
   "cell_type": "markdown",
   "id": "0905486d",
   "metadata": {},
   "source": [
    "- os.chdir() method in Python used to change the current working directory to specified path."
   ]
  },
  {
   "cell_type": "code",
   "execution_count": 4,
   "id": "f61e5b79",
   "metadata": {},
   "outputs": [],
   "source": [
    "os.chdir('/Users/vineethreddychinthala/test1')"
   ]
  },
  {
   "cell_type": "code",
   "execution_count": 5,
   "id": "aab845ab",
   "metadata": {},
   "outputs": [
    {
     "data": {
      "text/plain": [
       "'/Users/vineethreddychinthala/test1'"
      ]
     },
     "execution_count": 5,
     "metadata": {},
     "output_type": "execute_result"
    }
   ],
   "source": [
    "os.getcwd()"
   ]
  },
  {
   "cell_type": "code",
   "execution_count": 6,
   "id": "0e13b878",
   "metadata": {},
   "outputs": [],
   "source": [
    "os.chdir('/Users/vineethreddychinthala')"
   ]
  },
  {
   "cell_type": "code",
   "execution_count": 7,
   "id": "a7e5c575",
   "metadata": {},
   "outputs": [
    {
     "data": {
      "text/plain": [
       "'/Users/vineethreddychinthala'"
      ]
     },
     "execution_count": 7,
     "metadata": {},
     "output_type": "execute_result"
    }
   ],
   "source": [
    "os.getcwd()"
   ]
  },
  {
   "cell_type": "markdown",
   "id": "3500beb7",
   "metadata": {},
   "source": [
    "## 4. What are the . and .. folders?"
   ]
  },
  {
   "cell_type": "markdown",
   "id": "40f5fb45",
   "metadata": {},
   "source": [
    "- . represents the current directory.\n",
    "- .. represents the parent Directory of the current directory."
   ]
  },
  {
   "cell_type": "markdown",
   "id": "957ddc1f",
   "metadata": {},
   "source": [
    "## 5. In C:\\bacon\\eggs\\spam.txt, which part is the dir name, and which part is the base name?"
   ]
  },
  {
   "cell_type": "markdown",
   "id": "f18230f7",
   "metadata": {},
   "source": [
    "- dir name - C:\\bacon\\eggs\n",
    "- base name - spam.txt"
   ]
  },
  {
   "cell_type": "markdown",
   "id": "5be97dcd",
   "metadata": {},
   "source": [
    "## 6. What are the three “mode” arguments that can be passed to the open() function?"
   ]
  },
  {
   "cell_type": "code",
   "execution_count": null,
   "id": "261b202f",
   "metadata": {},
   "outputs": [],
   "source": [
    "# Syntax\n",
    "open(file,mode)"
   ]
  },
  {
   "cell_type": "markdown",
   "id": "8244dbf7",
   "metadata": {},
   "source": [
    "#### Modes\n",
    "- r: Opens the file in read-only mode. Starts reading from the beginning of the file and is the default mode for the open() function.\n",
    "- rb: Opens the file as read-only in binary format and starts reading from the beginning of the file. While binary format can be used for different purposes, it is usually used when dealing with things like images, videos, etc.\n",
    "- r+: Opens a file for reading and writing, placing the pointer at the beginning of the file.\n",
    "- w: Opens in write-only mode. The pointer is placed at the beginning of the file and this will overwrite any existing file with the same name. It will create a new file if one with the same name doesn't exist.\n",
    "- wb: Opens a write-only file in binary mode."
   ]
  },
  {
   "cell_type": "markdown",
   "id": "2cc1d9a6",
   "metadata": {},
   "source": [
    "## 7. What happens if an existing file is opened in write mode?"
   ]
  },
  {
   "cell_type": "markdown",
   "id": "adf50638",
   "metadata": {},
   "source": [
    "- This mode will overwrite any existing content in a file. If the given file does not exist, a new one will be created."
   ]
  },
  {
   "cell_type": "markdown",
   "id": "a0de0bd6",
   "metadata": {},
   "source": [
    "## 8. How do you tell the difference between read() and readlines()?"
   ]
  },
  {
   "cell_type": "markdown",
   "id": "1721e10a",
   "metadata": {},
   "source": [
    "- read() reads the entire contents of the file into a string.\n",
    "- readline() reads the data till \\n or it just reads one line at a time."
   ]
  },
  {
   "cell_type": "markdown",
   "id": "2b33c138",
   "metadata": {},
   "source": [
    "## 9. What data structure does a shelf value resemble?"
   ]
  },
  {
   "cell_type": "markdown",
   "id": "25432f04",
   "metadata": {},
   "source": [
    "- A shelf value resembles a dictionary value; it has keys and values"
   ]
  },
  {
   "cell_type": "code",
   "execution_count": null,
   "id": "943ad679",
   "metadata": {},
   "outputs": [],
   "source": []
  }
 ],
 "metadata": {
  "kernelspec": {
   "display_name": "Python 3",
   "language": "python",
   "name": "python3"
  },
  "language_info": {
   "codemirror_mode": {
    "name": "ipython",
    "version": 3
   },
   "file_extension": ".py",
   "mimetype": "text/x-python",
   "name": "python",
   "nbconvert_exporter": "python",
   "pygments_lexer": "ipython3",
   "version": "3.8.8"
  }
 },
 "nbformat": 4,
 "nbformat_minor": 5
}
