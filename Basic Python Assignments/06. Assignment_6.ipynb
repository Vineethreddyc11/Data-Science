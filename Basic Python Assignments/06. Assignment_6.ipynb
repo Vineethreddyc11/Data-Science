{
 "cells": [
  {
   "cell_type": "markdown",
   "id": "6a51f9ea",
   "metadata": {},
   "source": [
    "## 1. What are escape characters, and how do you use them?"
   ]
  },
  {
   "cell_type": "markdown",
   "id": "137fbcd7",
   "metadata": {},
   "source": [
    "- An escape character is a backslash \\ followed by the character that has to insert."
   ]
  },
  {
   "cell_type": "markdown",
   "id": "9960b060",
   "metadata": {},
   "source": [
    "- You will get an error if you use double quotes inside a string that is surrounded by double quotes"
   ]
  },
  {
   "cell_type": "code",
   "execution_count": 1,
   "id": "a227dc38",
   "metadata": {},
   "outputs": [
    {
     "ename": "SyntaxError",
     "evalue": "invalid syntax (<ipython-input-1-56cdf4283a8e>, line 1)",
     "output_type": "error",
     "traceback": [
      "\u001b[0;36m  File \u001b[0;32m\"<ipython-input-1-56cdf4283a8e>\"\u001b[0;36m, line \u001b[0;32m1\u001b[0m\n\u001b[0;31m    txt = \"We are the so-called \"Vikings\" from the north.\"\u001b[0m\n\u001b[0m                                 ^\u001b[0m\n\u001b[0;31mSyntaxError\u001b[0m\u001b[0;31m:\u001b[0m invalid syntax\n"
     ]
    }
   ],
   "source": [
    "txt = \"We are the so-called \"Vikings\" from the north.\""
   ]
  },
  {
   "cell_type": "markdown",
   "id": "e242a80e",
   "metadata": {},
   "source": [
    "- To fix this problem, we use the escape character \\\""
   ]
  },
  {
   "cell_type": "code",
   "execution_count": 4,
   "id": "f57b42f4",
   "metadata": {},
   "outputs": [
    {
     "data": {
      "text/plain": [
       "'We are the so-called \"Vikings\" from the north.'"
      ]
     },
     "execution_count": 4,
     "metadata": {},
     "output_type": "execute_result"
    }
   ],
   "source": [
    "txt = \"We are the so-called \\\"Vikings\\\" from the north.\"\n",
    "txt"
   ]
  },
  {
   "cell_type": "markdown",
   "id": "591388c7",
   "metadata": {},
   "source": [
    "## 2. What do the escape characters n and t stand for?"
   ]
  },
  {
   "cell_type": "markdown",
   "id": "3457d1a9",
   "metadata": {},
   "source": [
    "- \\n means new line\n",
    "- \\t means tab"
   ]
  },
  {
   "cell_type": "code",
   "execution_count": 5,
   "id": "2f687406",
   "metadata": {},
   "outputs": [
    {
     "name": "stdout",
     "output_type": "stream",
     "text": [
      "Vineeth\n",
      "Reddy\n",
      "Chinthala\n"
     ]
    }
   ],
   "source": [
    "txt = \"Vineeth\\nReddy\\nChinthala\"\n",
    "print(txt) "
   ]
  },
  {
   "cell_type": "code",
   "execution_count": 6,
   "id": "1ae8eb77",
   "metadata": {},
   "outputs": [
    {
     "name": "stdout",
     "output_type": "stream",
     "text": [
      "Vineeth\tReddy\tChinthala\n"
     ]
    }
   ],
   "source": [
    "txt = \"Vineeth\\tReddy\\tChinthala\"\n",
    "print(txt) "
   ]
  },
  {
   "cell_type": "markdown",
   "id": "4bd1fe50",
   "metadata": {},
   "source": [
    "## 3. What is the way to include backslash characters in a string?"
   ]
  },
  {
   "cell_type": "code",
   "execution_count": 7,
   "id": "c9c30d25",
   "metadata": {},
   "outputs": [
    {
     "name": "stdout",
     "output_type": "stream",
     "text": [
      "Vineeth\\Reddy\\Chinthala\n"
     ]
    }
   ],
   "source": [
    "txt = \"Vineeth\\\\Reddy\\\\Chinthala\"\n",
    "print(txt) "
   ]
  },
  {
   "cell_type": "markdown",
   "id": "9062a257",
   "metadata": {},
   "source": [
    "- It will insert 1 backslash "
   ]
  },
  {
   "cell_type": "markdown",
   "id": "f95bf636",
   "metadata": {},
   "source": [
    "## 4. The string &quot;Howl&#39;s Moving Castle&quot; is a correct value. Why isn&#39;t the single quote character in the word Howl&#39;s not escaped a problem?"
   ]
  },
  {
   "cell_type": "code",
   "execution_count": 9,
   "id": "f2fe6c77",
   "metadata": {},
   "outputs": [
    {
     "data": {
      "text/plain": [
       "\"Howl's Moving Castle\""
      ]
     },
     "execution_count": 9,
     "metadata": {},
     "output_type": "execute_result"
    }
   ],
   "source": [
    "txt = \"Howl's Moving Castle\"\n",
    "txt"
   ]
  },
  {
   "cell_type": "markdown",
   "id": "074f70b0",
   "metadata": {},
   "source": [
    "- Double quotes are given at the beginning and ending of the string anf for Howl's it is single quote. So there wont be any probelm."
   ]
  },
  {
   "cell_type": "code",
   "execution_count": 20,
   "id": "e102cc6d",
   "metadata": {},
   "outputs": [
    {
     "data": {
      "text/plain": [
       "'Howl\"s Moving Castle'"
      ]
     },
     "execution_count": 20,
     "metadata": {},
     "output_type": "execute_result"
    }
   ],
   "source": [
    "txt = 'Howl\"s Moving Castle'\n",
    "txt"
   ]
  },
  {
   "cell_type": "markdown",
   "id": "7a518074",
   "metadata": {},
   "source": [
    "- Error will come if the quotes in the beginning, ending and in strings are same."
   ]
  },
  {
   "cell_type": "code",
   "execution_count": 22,
   "id": "4b474542",
   "metadata": {},
   "outputs": [
    {
     "ename": "SyntaxError",
     "evalue": "invalid syntax (<ipython-input-22-4e50ee33dcb0>, line 1)",
     "output_type": "error",
     "traceback": [
      "\u001b[0;36m  File \u001b[0;32m\"<ipython-input-22-4e50ee33dcb0>\"\u001b[0;36m, line \u001b[0;32m1\u001b[0m\n\u001b[0;31m    txt = \"Howl\"s Moving Castle\"\u001b[0m\n\u001b[0m                ^\u001b[0m\n\u001b[0;31mSyntaxError\u001b[0m\u001b[0;31m:\u001b[0m invalid syntax\n"
     ]
    }
   ],
   "source": [
    "txt = \"Howl\"s Moving Castle\"\n",
    "txt"
   ]
  },
  {
   "cell_type": "markdown",
   "id": "7a8cc90d",
   "metadata": {},
   "source": [
    "## 5. How do you write a string of newlines if you don&#39;t want to use the n character?"
   ]
  },
  {
   "cell_type": "code",
   "execution_count": 26,
   "id": "c92f0f3f",
   "metadata": {},
   "outputs": [
    {
     "name": "stdout",
     "output_type": "stream",
     "text": [
      "Vineeth\n",
      "Reddy\n",
      "Chinthala\n"
     ]
    }
   ],
   "source": [
    "#without \\n\n",
    "line1 = print(\"Vineeth\")\n",
    "line2 = print(\"Reddy\")\n",
    "line3 = print(\"Chinthala\")"
   ]
  },
  {
   "cell_type": "code",
   "execution_count": 27,
   "id": "c6f9336c",
   "metadata": {},
   "outputs": [
    {
     "name": "stdout",
     "output_type": "stream",
     "text": [
      "Vineeth\n",
      "Reddy\n",
      "Chinthala\n"
     ]
    }
   ],
   "source": [
    "#with \\n\n",
    "txt = \"Vineeth\\nReddy\\nChinthala\"\n",
    "print(txt) "
   ]
  },
  {
   "cell_type": "markdown",
   "id": "c0c28a18",
   "metadata": {},
   "source": [
    "## 6. What are the values of the given expressions?\n",
    "## &#39;Hello, world!&#39;"
   ]
  },
  {
   "cell_type": "code",
   "execution_count": 31,
   "id": "9ba853f7",
   "metadata": {},
   "outputs": [
    {
     "data": {
      "text/plain": [
       "'Hello, world!'"
      ]
     },
     "execution_count": 31,
     "metadata": {},
     "output_type": "execute_result"
    }
   ],
   "source": [
    "'Hello, world!'"
   ]
  },
  {
   "cell_type": "markdown",
   "id": "da2e6f78",
   "metadata": {},
   "source": [
    "- H - 0\n",
    "- e - 1\n",
    "- l - 2\n",
    "- l - 3\n",
    "- o - 4\n",
    "- , - 5\n",
    "-   - 6\n",
    "- w - 7\n",
    "- o - 8\n",
    "- r - 9\n",
    "- l - 10\n",
    "- d - 11\n",
    "- ! - 12"
   ]
  },
  {
   "cell_type": "markdown",
   "id": "90bf08ce",
   "metadata": {},
   "source": [
    "#### &#39;Hello, world!&#39;[1]"
   ]
  },
  {
   "cell_type": "code",
   "execution_count": 33,
   "id": "4c5771c9",
   "metadata": {},
   "outputs": [
    {
     "data": {
      "text/plain": [
       "'e'"
      ]
     },
     "execution_count": 33,
     "metadata": {},
     "output_type": "execute_result"
    }
   ],
   "source": [
    "'Hello, world!'[1]"
   ]
  },
  {
   "cell_type": "markdown",
   "id": "2fabb83a",
   "metadata": {},
   "source": [
    "#### &#39;Hello, world!&#39;[0:5]"
   ]
  },
  {
   "cell_type": "markdown",
   "id": "eda2e845",
   "metadata": {},
   "source": [
    "-It will give values from 0th index to 5th index but not 5th"
   ]
  },
  {
   "cell_type": "code",
   "execution_count": 34,
   "id": "1ee09bca",
   "metadata": {},
   "outputs": [
    {
     "data": {
      "text/plain": [
       "'Hello'"
      ]
     },
     "execution_count": 34,
     "metadata": {},
     "output_type": "execute_result"
    }
   ],
   "source": [
    "'Hello, world!'[0:5]"
   ]
  },
  {
   "cell_type": "markdown",
   "id": "a0ab76fb",
   "metadata": {},
   "source": [
    "#### &#39;Hello, world!&#39;[:5]"
   ]
  },
  {
   "cell_type": "markdown",
   "id": "187700d0",
   "metadata": {},
   "source": [
    "-It will give values from 0th index to 5th index but not 5th"
   ]
  },
  {
   "cell_type": "code",
   "execution_count": 35,
   "id": "d3492ed6",
   "metadata": {},
   "outputs": [
    {
     "data": {
      "text/plain": [
       "'Hello'"
      ]
     },
     "execution_count": 35,
     "metadata": {},
     "output_type": "execute_result"
    }
   ],
   "source": [
    "'Hello, world!'[:5]"
   ]
  },
  {
   "cell_type": "markdown",
   "id": "0b5c01a5",
   "metadata": {},
   "source": [
    "#### &#39;Hello, world!&#39;[3:]"
   ]
  },
  {
   "cell_type": "markdown",
   "id": "37863f75",
   "metadata": {},
   "source": [
    "- It will give values from 3rd index to last index."
   ]
  },
  {
   "cell_type": "code",
   "execution_count": 37,
   "id": "324bfb61",
   "metadata": {},
   "outputs": [
    {
     "data": {
      "text/plain": [
       "'lo, world!'"
      ]
     },
     "execution_count": 37,
     "metadata": {},
     "output_type": "execute_result"
    }
   ],
   "source": [
    "'Hello, world!'[3:]"
   ]
  },
  {
   "cell_type": "markdown",
   "id": "fe38eaeb",
   "metadata": {},
   "source": [
    "## 7. What are the values of the following expressions?"
   ]
  },
  {
   "cell_type": "markdown",
   "id": "9b3bc6b6",
   "metadata": {},
   "source": [
    "- .upper() method returns a string where all characters are in upper case."
   ]
  },
  {
   "cell_type": "code",
   "execution_count": 39,
   "id": "feb82f47",
   "metadata": {},
   "outputs": [
    {
     "data": {
      "text/plain": [
       "'HELLO'"
      ]
     },
     "execution_count": 39,
     "metadata": {},
     "output_type": "execute_result"
    }
   ],
   "source": [
    "'Hello'.upper()"
   ]
  },
  {
   "cell_type": "code",
   "execution_count": 38,
   "id": "7565a7f4",
   "metadata": {},
   "outputs": [
    {
     "data": {
      "text/plain": [
       "'WHAT ARE THE VALUES OF THE FOLLOWING EXPRESSIONS'"
      ]
     },
     "execution_count": 38,
     "metadata": {},
     "output_type": "execute_result"
    }
   ],
   "source": [
    "txt = \"What are the values of the following expressions\"\n",
    "txt.upper()"
   ]
  },
  {
   "cell_type": "markdown",
   "id": "b485fe69",
   "metadata": {},
   "source": [
    "#### 'Hello'.upper().isupper()"
   ]
  },
  {
   "cell_type": "markdown",
   "id": "382c2066",
   "metadata": {},
   "source": [
    "- Returns :\n",
    "- True- If all characters in the string are uppercase.\n",
    "- False- If the string contains 1 or more non-uppercase characters."
   ]
  },
  {
   "cell_type": "code",
   "execution_count": 40,
   "id": "41161059",
   "metadata": {},
   "outputs": [
    {
     "data": {
      "text/plain": [
       "True"
      ]
     },
     "execution_count": 40,
     "metadata": {},
     "output_type": "execute_result"
    }
   ],
   "source": [
    "'Hello'.upper().isupper()"
   ]
  },
  {
   "cell_type": "markdown",
   "id": "341964a7",
   "metadata": {},
   "source": [
    "#### &#39;Hello&#39;.upper().lower()"
   ]
  },
  {
   "cell_type": "markdown",
   "id": "e669f9bc",
   "metadata": {},
   "source": [
    "- The lower() methods returns the lowercased string from the given string. It converts all uppercase characters to lowercase. If no uppercase characters exist, it returns the original string."
   ]
  },
  {
   "cell_type": "code",
   "execution_count": 42,
   "id": "7d966020",
   "metadata": {},
   "outputs": [
    {
     "data": {
      "text/plain": [
       "'hello'"
      ]
     },
     "execution_count": 42,
     "metadata": {},
     "output_type": "execute_result"
    }
   ],
   "source": [
    "'Hello'.upper().lower()"
   ]
  },
  {
   "cell_type": "markdown",
   "id": "03fe4bb6",
   "metadata": {},
   "source": [
    "## 8. What are the values of the following expressions?&#39;Remember, remember, the fifth of July.&#39;.split()&#39;-&#39;.join(&#39;There can only one.&#39;.split())"
   ]
  },
  {
   "cell_type": "markdown",
   "id": "80488b66",
   "metadata": {},
   "source": [
    "- .split() method splits a string into a list.\n",
    "- we can specify the separator, default separator is any whitespace."
   ]
  },
  {
   "cell_type": "code",
   "execution_count": 43,
   "id": "dcbf0702",
   "metadata": {},
   "outputs": [
    {
     "data": {
      "text/plain": [
       "['Remember,', 'remember,', 'the', 'fifth', 'of', 'July.']"
      ]
     },
     "execution_count": 43,
     "metadata": {},
     "output_type": "execute_result"
    }
   ],
   "source": [
    "'Remember, remember, the fifth of July.'.split()"
   ]
  },
  {
   "cell_type": "markdown",
   "id": "09d640b8",
   "metadata": {},
   "source": [
    "- join() is an inbuilt string function in Python used to join elements of the sequence separated by a string separator. This function joins elements of a sequence and makes it a string. "
   ]
  },
  {
   "cell_type": "code",
   "execution_count": 52,
   "id": "c30437e6",
   "metadata": {},
   "outputs": [
    {
     "data": {
      "text/plain": [
       "'There-can-only-one.'"
      ]
     },
     "execution_count": 52,
     "metadata": {},
     "output_type": "execute_result"
    }
   ],
   "source": [
    "'-'.join('There can only one.'.split())"
   ]
  },
  {
   "cell_type": "markdown",
   "id": "a31a19ec",
   "metadata": {},
   "source": [
    "## 9. What are the methods for right-justifying, left-justifying, and centering a string?"
   ]
  },
  {
   "cell_type": "markdown",
   "id": "40e41f95",
   "metadata": {},
   "source": [
    "#### right-justifying"
   ]
  },
  {
   "cell_type": "markdown",
   "id": "d7a2ff15",
   "metadata": {},
   "source": [
    "- Python’s rjust() function accepts the character for padding it to the input string.\n",
    "\n",
    "- Then, it substitutes the character and does padding to the left of the input string."
   ]
  },
  {
   "cell_type": "code",
   "execution_count": null,
   "id": "ff068909",
   "metadata": {},
   "outputs": [],
   "source": [
    "# Syntax\n",
    "String.rjust(length,fill_char)"
   ]
  },
  {
   "cell_type": "markdown",
   "id": "3122926e",
   "metadata": {},
   "source": [
    "- length: The value of the length provided is basically used to justify the string of the given length.\n",
    "- fill_char: This is an optional parameter. These are the characters that needs to be padded around the string."
   ]
  },
  {
   "cell_type": "code",
   "execution_count": 59,
   "id": "e4740f7c",
   "metadata": {},
   "outputs": [],
   "source": [
    "txt = 'right justifying'"
   ]
  },
  {
   "cell_type": "code",
   "execution_count": 65,
   "id": "59c9ff0d",
   "metadata": {},
   "outputs": [
    {
     "name": "stdout",
     "output_type": "stream",
     "text": [
      "$$$$right justifying\n"
     ]
    }
   ],
   "source": [
    "print(txt.rjust(20,'$'))"
   ]
  },
  {
   "cell_type": "markdown",
   "id": "300870a9",
   "metadata": {},
   "source": [
    "#### left-justifying"
   ]
  },
  {
   "cell_type": "markdown",
   "id": "13b91bb6",
   "metadata": {},
   "source": [
    "- Python String ljust() function accepts the character for padding it to the input string. \n",
    "- Then, it substitutes the character and does padding to the right of the input string."
   ]
  },
  {
   "cell_type": "code",
   "execution_count": null,
   "id": "7d4215d3",
   "metadata": {},
   "outputs": [],
   "source": [
    "# Syntax\n",
    "String.ljust(length,fill_char)"
   ]
  },
  {
   "cell_type": "code",
   "execution_count": 66,
   "id": "6b9d5a8e",
   "metadata": {},
   "outputs": [],
   "source": [
    "txt = 'right justifying'"
   ]
  },
  {
   "cell_type": "code",
   "execution_count": 68,
   "id": "c55079d4",
   "metadata": {},
   "outputs": [
    {
     "name": "stdout",
     "output_type": "stream",
     "text": [
      "right justifying$$$$\n"
     ]
    }
   ],
   "source": [
    "print(txt.ljust(20,'$'))"
   ]
  },
  {
   "cell_type": "markdown",
   "id": "752bcc92",
   "metadata": {},
   "source": [
    "#### centering a string"
   ]
  },
  {
   "cell_type": "markdown",
   "id": "c1e6a6e7",
   "metadata": {},
   "source": [
    "- This function center aligns the string according to the width specified and fills remaining space of line with blank space if ‘ fillchr ‘ argument is not passed."
   ]
  },
  {
   "cell_type": "code",
   "execution_count": 69,
   "id": "120b1cb9",
   "metadata": {},
   "outputs": [],
   "source": [
    "txt = 'right justifying'"
   ]
  },
  {
   "cell_type": "code",
   "execution_count": 71,
   "id": "ebba2590",
   "metadata": {},
   "outputs": [
    {
     "name": "stdout",
     "output_type": "stream",
     "text": [
      "$$right justifying$$\n"
     ]
    }
   ],
   "source": [
    "print(txt.center(20,'$'))"
   ]
  },
  {
   "cell_type": "markdown",
   "id": "fe3e5da9",
   "metadata": {},
   "source": [
    "## 10. What is the best way to remove whitespace characters from the start or end?"
   ]
  },
  {
   "cell_type": "markdown",
   "id": "5fdf331f",
   "metadata": {},
   "source": [
    "- To remove the spaces present at start and end of the string, you can use strip() function on the string."
   ]
  },
  {
   "cell_type": "code",
   "execution_count": 82,
   "id": "12dab33e",
   "metadata": {},
   "outputs": [],
   "source": [
    "txt = '      remove whitespace characters       '"
   ]
  },
  {
   "cell_type": "code",
   "execution_count": 84,
   "id": "c371ed2c",
   "metadata": {},
   "outputs": [
    {
     "data": {
      "text/plain": [
       "41"
      ]
     },
     "execution_count": 84,
     "metadata": {},
     "output_type": "execute_result"
    }
   ],
   "source": [
    "len(txt)"
   ]
  },
  {
   "cell_type": "code",
   "execution_count": 85,
   "id": "1f4f47f5",
   "metadata": {},
   "outputs": [
    {
     "data": {
      "text/plain": [
       "'remove whitespace characters'"
      ]
     },
     "execution_count": 85,
     "metadata": {},
     "output_type": "execute_result"
    }
   ],
   "source": [
    "new_txt = txt.strip()\n",
    "new_txt"
   ]
  },
  {
   "cell_type": "code",
   "execution_count": 86,
   "id": "c0d0d059",
   "metadata": {},
   "outputs": [
    {
     "data": {
      "text/plain": [
       "28"
      ]
     },
     "execution_count": 86,
     "metadata": {},
     "output_type": "execute_result"
    }
   ],
   "source": [
    "len(new_txt)"
   ]
  },
  {
   "cell_type": "code",
   "execution_count": null,
   "id": "ee80655b",
   "metadata": {},
   "outputs": [],
   "source": []
  }
 ],
 "metadata": {
  "kernelspec": {
   "display_name": "Python 3",
   "language": "python",
   "name": "python3"
  },
  "language_info": {
   "codemirror_mode": {
    "name": "ipython",
    "version": 3
   },
   "file_extension": ".py",
   "mimetype": "text/x-python",
   "name": "python",
   "nbconvert_exporter": "python",
   "pygments_lexer": "ipython3",
   "version": "3.8.8"
  }
 },
 "nbformat": 4,
 "nbformat_minor": 5
}
