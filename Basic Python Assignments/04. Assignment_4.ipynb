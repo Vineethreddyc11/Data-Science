{
 "cells": [
  {
   "cell_type": "markdown",
   "id": "78850a2c",
   "metadata": {},
   "source": [
    "## 1. What exactly is [ ]?"
   ]
  },
  {
   "cell_type": "markdown",
   "id": "1113e157",
   "metadata": {},
   "source": [
    "- Empty list i.e that list does not have any items."
   ]
  },
  {
   "cell_type": "markdown",
   "id": "0cc6c73c",
   "metadata": {},
   "source": [
    "## 2. In a list of values stored in a variable called spam, how would you assign the value &#39;hello&#39; as the third value? (Assume [2, 4, 6, 8, 10] are in spam.)"
   ]
  },
  {
   "cell_type": "code",
   "execution_count": 78,
   "id": "38d74482",
   "metadata": {},
   "outputs": [],
   "source": [
    "spam  = [2,4,6,8,10]"
   ]
  },
  {
   "cell_type": "code",
   "execution_count": 79,
   "id": "7e9e85fc",
   "metadata": {},
   "outputs": [
    {
     "data": {
      "text/plain": [
       "[2, 4, 'hello', 8, 10]"
      ]
     },
     "execution_count": 79,
     "metadata": {},
     "output_type": "execute_result"
    }
   ],
   "source": [
    "spam[2] = 'hello'\n",
    "spam"
   ]
  },
  {
   "cell_type": "markdown",
   "id": "6cea1084",
   "metadata": {},
   "source": [
    "## Let&#39;s pretend the spam includes the list [&#39;a&#39;, &#39;b&#39;, &#39;c&#39;, &#39;d&#39;] for the next three queries."
   ]
  },
  {
   "cell_type": "code",
   "execution_count": 24,
   "id": "7c484581",
   "metadata": {},
   "outputs": [],
   "source": [
    "spam = ['a','b','c','d']"
   ]
  },
  {
   "cell_type": "markdown",
   "id": "2b443eab",
   "metadata": {},
   "source": [
    "## 3. What is the value of spam[int(int(&#39;3&#39; * 2) / 11)]?"
   ]
  },
  {
   "cell_type": "code",
   "execution_count": 23,
   "id": "06e4fc17",
   "metadata": {},
   "outputs": [
    {
     "data": {
      "text/plain": [
       "'33'"
      ]
     },
     "execution_count": 23,
     "metadata": {},
     "output_type": "execute_result"
    }
   ],
   "source": [
    "\"3\"*2"
   ]
  },
  {
   "cell_type": "code",
   "execution_count": 26,
   "id": "299f490f",
   "metadata": {},
   "outputs": [
    {
     "data": {
      "text/plain": [
       "3.0"
      ]
     },
     "execution_count": 26,
     "metadata": {},
     "output_type": "execute_result"
    }
   ],
   "source": [
    "33/11"
   ]
  },
  {
   "cell_type": "code",
   "execution_count": 27,
   "id": "bf080b0f",
   "metadata": {},
   "outputs": [
    {
     "data": {
      "text/plain": [
       "3"
      ]
     },
     "execution_count": 27,
     "metadata": {},
     "output_type": "execute_result"
    }
   ],
   "source": [
    "int(3.0)"
   ]
  },
  {
   "cell_type": "code",
   "execution_count": 28,
   "id": "560a1b6c",
   "metadata": {},
   "outputs": [
    {
     "data": {
      "text/plain": [
       "'d'"
      ]
     },
     "execution_count": 28,
     "metadata": {},
     "output_type": "execute_result"
    }
   ],
   "source": [
    "spam[3]"
   ]
  },
  {
   "cell_type": "markdown",
   "id": "2e50c9f3",
   "metadata": {},
   "source": [
    "- spam[int(int('3' * 2) / 11)] is 'd'"
   ]
  },
  {
   "cell_type": "markdown",
   "id": "ba544634",
   "metadata": {},
   "source": [
    "## 4. What is the value of spam[-1]?"
   ]
  },
  {
   "cell_type": "markdown",
   "id": "1b795d3a",
   "metadata": {},
   "source": [
    "- -1 gives last digit"
   ]
  },
  {
   "cell_type": "code",
   "execution_count": 30,
   "id": "00a64ca0",
   "metadata": {},
   "outputs": [
    {
     "data": {
      "text/plain": [
       "'d'"
      ]
     },
     "execution_count": 30,
     "metadata": {},
     "output_type": "execute_result"
    }
   ],
   "source": [
    "spam[-1]"
   ]
  },
  {
   "cell_type": "markdown",
   "id": "0f09d42c",
   "metadata": {},
   "source": [
    "## 5. What is the value of spam[:2]?"
   ]
  },
  {
   "cell_type": "markdown",
   "id": "bba86c56",
   "metadata": {},
   "source": [
    "- [:n] gives numbers from 0th index to nth index but not n "
   ]
  },
  {
   "cell_type": "code",
   "execution_count": 31,
   "id": "18afd07d",
   "metadata": {},
   "outputs": [
    {
     "data": {
      "text/plain": [
       "['a', 'b']"
      ]
     },
     "execution_count": 31,
     "metadata": {},
     "output_type": "execute_result"
    }
   ],
   "source": [
    "spam[:2]"
   ]
  },
  {
   "cell_type": "markdown",
   "id": "7334aa25",
   "metadata": {},
   "source": [
    "## Let&#39;s pretend bacon has the list [3.14, &#39;cat,&#39; 11, &#39;cat,&#39; True] for the next three questions."
   ]
  },
  {
   "cell_type": "code",
   "execution_count": 46,
   "id": "94e0b3fe",
   "metadata": {},
   "outputs": [],
   "source": [
    "bacon = [3.14,'cat',11,'cat',True]"
   ]
  },
  {
   "cell_type": "markdown",
   "id": "bbee91f0",
   "metadata": {},
   "source": [
    "## 6. What is the value of bacon.index(&#39;cat&#39;)?"
   ]
  },
  {
   "cell_type": "markdown",
   "id": "dc17b752",
   "metadata": {},
   "source": [
    "- .index() will returns the position of specified value at the first occurance. In the list bacon, 'cat' is in 1 and 3rd positions but the first occurance is in 1st position so .index('cat') will return 1."
   ]
  },
  {
   "cell_type": "code",
   "execution_count": 47,
   "id": "fd100a9f",
   "metadata": {},
   "outputs": [
    {
     "data": {
      "text/plain": [
       "1"
      ]
     },
     "execution_count": 47,
     "metadata": {},
     "output_type": "execute_result"
    }
   ],
   "source": [
    "bacon.index('cat')"
   ]
  },
  {
   "cell_type": "markdown",
   "id": "a4817ed7",
   "metadata": {},
   "source": [
    "## 7. How does bacon.append(99) change the look of the list value in bacon?"
   ]
  },
  {
   "cell_type": "markdown",
   "id": "49855935",
   "metadata": {},
   "source": [
    "- .append() will add value at the end of the list"
   ]
  },
  {
   "cell_type": "code",
   "execution_count": 48,
   "id": "fc46c562",
   "metadata": {},
   "outputs": [
    {
     "data": {
      "text/plain": [
       "[3.14, 'cat', 11, 'cat', True, 99]"
      ]
     },
     "execution_count": 48,
     "metadata": {},
     "output_type": "execute_result"
    }
   ],
   "source": [
    "bacon.append(99)\n",
    "bacon"
   ]
  },
  {
   "cell_type": "markdown",
   "id": "e9d90ac2",
   "metadata": {},
   "source": [
    "## 8. How does bacon.remove(&#39;cat&#39;) change the look of the list in bacon?"
   ]
  },
  {
   "cell_type": "markdown",
   "id": "dcc16f8c",
   "metadata": {},
   "source": [
    "- .remove() removes the value that is in the first occurance. So 'cat' that is in 1st position will be removed."
   ]
  },
  {
   "cell_type": "code",
   "execution_count": 49,
   "id": "31c55782",
   "metadata": {},
   "outputs": [
    {
     "data": {
      "text/plain": [
       "[3.14, 11, 'cat', True, 99]"
      ]
     },
     "execution_count": 49,
     "metadata": {},
     "output_type": "execute_result"
    }
   ],
   "source": [
    "bacon.remove('cat')\n",
    "bacon"
   ]
  },
  {
   "cell_type": "markdown",
   "id": "47101086",
   "metadata": {},
   "source": [
    "## 9. What are the list concatenation and list replication operators?"
   ]
  },
  {
   "cell_type": "markdown",
   "id": "e4dbd9f3",
   "metadata": {},
   "source": [
    "- List concatenation operator - '+'\n",
    "- List replication operator - '*'"
   ]
  },
  {
   "cell_type": "markdown",
   "id": "0ba7715f",
   "metadata": {},
   "source": [
    "## 10. What is difference between the list methods append() and insert()?"
   ]
  },
  {
   "cell_type": "markdown",
   "id": "e793376d",
   "metadata": {},
   "source": [
    "- .append() will add value at the end of the list.\n",
    "- .insert() will add values at the specified position."
   ]
  },
  {
   "cell_type": "markdown",
   "id": "6fafe487",
   "metadata": {},
   "source": [
    "## 11. What are the two methods for removing items from a list?"
   ]
  },
  {
   "cell_type": "markdown",
   "id": "ee812e60",
   "metadata": {},
   "source": [
    "- 1. .pop() removes the elements at the specified position.\n",
    "- 2. .remove() removes the elements with the specified value at the first occurance."
   ]
  },
  {
   "cell_type": "code",
   "execution_count": 67,
   "id": "cb877526",
   "metadata": {},
   "outputs": [],
   "source": [
    "list1  = [123,'asd',23.4,123,123,12+6j,True]"
   ]
  },
  {
   "cell_type": "code",
   "execution_count": 68,
   "id": "fa74012c",
   "metadata": {},
   "outputs": [
    {
     "data": {
      "text/plain": [
       "[123, 23.4, 123, 123, (12+6j), True]"
      ]
     },
     "execution_count": 68,
     "metadata": {},
     "output_type": "execute_result"
    }
   ],
   "source": [
    "list1.pop(1)\n",
    "list1"
   ]
  },
  {
   "cell_type": "code",
   "execution_count": 69,
   "id": "755cf68a",
   "metadata": {},
   "outputs": [
    {
     "data": {
      "text/plain": [
       "[23.4, 123, 123, (12+6j), True]"
      ]
     },
     "execution_count": 69,
     "metadata": {},
     "output_type": "execute_result"
    }
   ],
   "source": [
    "list1.remove(123)\n",
    "list1"
   ]
  },
  {
   "cell_type": "markdown",
   "id": "58c911e8",
   "metadata": {},
   "source": [
    "## 12. Describe how list values and string values are identical."
   ]
  },
  {
   "cell_type": "markdown",
   "id": "c0b6dda2",
   "metadata": {},
   "source": [
    "- List and string both are used to store data that is sequential."
   ]
  },
  {
   "cell_type": "markdown",
   "id": "2081ca33",
   "metadata": {},
   "source": [
    "- A list is a sequential collection of python data values and strings can be defined as sequential collections of characters."
   ]
  },
  {
   "cell_type": "markdown",
   "id": "04bafb7f",
   "metadata": {},
   "source": [
    "## 13. What&#39;s the difference between tuples and lists?"
   ]
  },
  {
   "cell_type": "markdown",
   "id": "190b0478",
   "metadata": {},
   "source": [
    "- Tuples are immutable that means tuples cannot be modified. Tuple will be created using paranthesis()>\n",
    "- Lists are mutable. List will be created using square bracket[]."
   ]
  },
  {
   "cell_type": "code",
   "execution_count": 72,
   "id": "83be8d90",
   "metadata": {},
   "outputs": [
    {
     "data": {
      "text/plain": [
       "tuple"
      ]
     },
     "execution_count": 72,
     "metadata": {},
     "output_type": "execute_result"
    }
   ],
   "source": [
    "tuple1 = (23,'asd',23.4,123,123,12+6j,True)\n",
    "type(tuple1)"
   ]
  },
  {
   "cell_type": "code",
   "execution_count": null,
   "id": "4bf9362c",
   "metadata": {},
   "outputs": [],
   "source": [
    "list1  = [123,'asd',23.4,123,123,12+6j,True]\n",
    "type(list1)"
   ]
  },
  {
   "cell_type": "code",
   "execution_count": 82,
   "id": "16ba0ee7",
   "metadata": {},
   "outputs": [
    {
     "data": {
      "text/plain": [
       "[123, 'asd', 'mnbv', 123, 123, (12+6j), True]"
      ]
     },
     "execution_count": 82,
     "metadata": {},
     "output_type": "execute_result"
    }
   ],
   "source": [
    "list1[2] = 'mnbv'\n",
    "list1"
   ]
  },
  {
   "cell_type": "code",
   "execution_count": 83,
   "id": "43f6e877",
   "metadata": {},
   "outputs": [
    {
     "ename": "TypeError",
     "evalue": "'tuple' object does not support item assignment",
     "output_type": "error",
     "traceback": [
      "\u001b[0;31m---------------------------------------------------------------------------\u001b[0m",
      "\u001b[0;31mTypeError\u001b[0m                                 Traceback (most recent call last)",
      "\u001b[0;32m<ipython-input-83-19114a33477d>\u001b[0m in \u001b[0;36m<module>\u001b[0;34m\u001b[0m\n\u001b[0;32m----> 1\u001b[0;31m \u001b[0mtuple1\u001b[0m\u001b[0;34m[\u001b[0m\u001b[0;36m2\u001b[0m\u001b[0;34m]\u001b[0m\u001b[0;34m=\u001b[0m\u001b[0;34m'mnbv'\u001b[0m\u001b[0;34m\u001b[0m\u001b[0;34m\u001b[0m\u001b[0m\n\u001b[0m\u001b[1;32m      2\u001b[0m \u001b[0mtuple1\u001b[0m\u001b[0;34m\u001b[0m\u001b[0;34m\u001b[0m\u001b[0m\n",
      "\u001b[0;31mTypeError\u001b[0m: 'tuple' object does not support item assignment"
     ]
    }
   ],
   "source": [
    "tuple1[2]='mnbv'\n",
    "tuple1"
   ]
  },
  {
   "cell_type": "markdown",
   "id": "7589fd26",
   "metadata": {},
   "source": [
    "## 14. How do you type a tuple value that only contains the integer 42?"
   ]
  },
  {
   "cell_type": "code",
   "execution_count": 85,
   "id": "ab68b11b",
   "metadata": {},
   "outputs": [
    {
     "data": {
      "text/plain": [
       "tuple"
      ]
     },
     "execution_count": 85,
     "metadata": {},
     "output_type": "execute_result"
    }
   ],
   "source": [
    "tuple1 = (42,)\n",
    "type(tuple1)"
   ]
  },
  {
   "cell_type": "markdown",
   "id": "bee4c907",
   "metadata": {},
   "source": [
    "## 15. How do you get a list value&#39;s tuple form? How do you get a tuple value&#39;s list form?"
   ]
  },
  {
   "cell_type": "code",
   "execution_count": 86,
   "id": "b30598cd",
   "metadata": {},
   "outputs": [
    {
     "data": {
      "text/plain": [
       "list"
      ]
     },
     "execution_count": 86,
     "metadata": {},
     "output_type": "execute_result"
    }
   ],
   "source": [
    "list1  = [123,'asd',23.4,123,123,12+6j,True]\n",
    "type(list1)"
   ]
  },
  {
   "cell_type": "code",
   "execution_count": 91,
   "id": "960a76af",
   "metadata": {},
   "outputs": [
    {
     "name": "stdout",
     "output_type": "stream",
     "text": [
      "(123, 'asd', 23.4, 123, 123, (12+6j), True)\n"
     ]
    }
   ],
   "source": [
    "x = tuple(list1)\n",
    "print(x)"
   ]
  },
  {
   "cell_type": "code",
   "execution_count": 92,
   "id": "661dde66",
   "metadata": {},
   "outputs": [
    {
     "data": {
      "text/plain": [
       "tuple"
      ]
     },
     "execution_count": 92,
     "metadata": {},
     "output_type": "execute_result"
    }
   ],
   "source": [
    "type(x)"
   ]
  },
  {
   "cell_type": "code",
   "execution_count": 89,
   "id": "7c419882",
   "metadata": {},
   "outputs": [
    {
     "data": {
      "text/plain": [
       "tuple"
      ]
     },
     "execution_count": 89,
     "metadata": {},
     "output_type": "execute_result"
    }
   ],
   "source": [
    "tuple1 = (23,'asd',23.4,123,123,12+6j,True)\n",
    "type(tuple1)"
   ]
  },
  {
   "cell_type": "code",
   "execution_count": 93,
   "id": "69d9fdbf",
   "metadata": {},
   "outputs": [
    {
     "name": "stdout",
     "output_type": "stream",
     "text": [
      "[23, 'asd', 23.4, 123, 123, (12+6j), True]\n"
     ]
    }
   ],
   "source": [
    "y = list(tuple1)\n",
    "print(y)"
   ]
  },
  {
   "cell_type": "code",
   "execution_count": 94,
   "id": "111a28bf",
   "metadata": {},
   "outputs": [
    {
     "data": {
      "text/plain": [
       "list"
      ]
     },
     "execution_count": 94,
     "metadata": {},
     "output_type": "execute_result"
    }
   ],
   "source": [
    "type(y)"
   ]
  },
  {
   "cell_type": "markdown",
   "id": "ade678b4",
   "metadata": {},
   "source": [
    "## 16. Variables that &quot;contain&quot; list values are not necessarily lists themselves. Instead, what do they contain?"
   ]
  },
  {
   "cell_type": "markdown",
   "id": "c0826bd1",
   "metadata": {},
   "source": [
    "- They contain reference to a list."
   ]
  },
  {
   "cell_type": "markdown",
   "id": "8c7e82fd",
   "metadata": {},
   "source": [
    "## 17. How do you distinguish between copy.copy() and copy.deepcopy()?"
   ]
  },
  {
   "cell_type": "markdown",
   "id": "cde35d3a",
   "metadata": {},
   "source": [
    "- we use = operator to create a copy of an object.  It creates a new variable that shares the reference of the original object.\n",
    "- Here I created a list named list1 and pass an object reference to list2 using = operator."
   ]
  },
  {
   "cell_type": "code",
   "execution_count": 135,
   "id": "5f94bc4c",
   "metadata": {},
   "outputs": [],
   "source": [
    "list1 = [1,2,33,4,'hgf']\n",
    "list2 = list1"
   ]
  },
  {
   "cell_type": "code",
   "execution_count": 136,
   "id": "b74d055d",
   "metadata": {},
   "outputs": [
    {
     "data": {
      "text/plain": [
       "([1, 2, 33, 4, 'hgf'], [1, 2, 33, 4, 'hgf'])"
      ]
     },
     "execution_count": 136,
     "metadata": {},
     "output_type": "execute_result"
    }
   ],
   "source": [
    "list1,list2"
   ]
  },
  {
   "cell_type": "code",
   "execution_count": 137,
   "id": "8866ff0a",
   "metadata": {},
   "outputs": [],
   "source": [
    "list2[2] = 44"
   ]
  },
  {
   "cell_type": "code",
   "execution_count": 138,
   "id": "b5715ce5",
   "metadata": {},
   "outputs": [
    {
     "data": {
      "text/plain": [
       "([1, 2, 44, 4, 'hgf'], [1, 2, 44, 4, 'hgf'])"
      ]
     },
     "execution_count": 138,
     "metadata": {},
     "output_type": "execute_result"
    }
   ],
   "source": [
    "list1, list2"
   ]
  },
  {
   "cell_type": "markdown",
   "id": "66c875d1",
   "metadata": {},
   "source": [
    "- Here if I change any values in list1 or list2 the change is visible in both."
   ]
  },
  {
   "cell_type": "markdown",
   "id": "ea3abc64",
   "metadata": {},
   "source": [
    "- A shallow copy creates a new object which stores the reference of the original elements.\n",
    "- If we change value in 1 list, the other list will not change.\n",
    "- But in nested list if we change value it will visible in both list1 and list2"
   ]
  },
  {
   "cell_type": "code",
   "execution_count": 139,
   "id": "e8c7e4fb",
   "metadata": {},
   "outputs": [],
   "source": [
    "# copy or shallow copy\n",
    "list1 = [1,2,33,4,'hgf']\n",
    "list2 = list1.copy()"
   ]
  },
  {
   "cell_type": "code",
   "execution_count": 140,
   "id": "ac6efa30",
   "metadata": {},
   "outputs": [
    {
     "data": {
      "text/plain": [
       "([1, 2, 33, 4, 'hgf'], [1, 2, 33, 4, 'hgf'])"
      ]
     },
     "execution_count": 140,
     "metadata": {},
     "output_type": "execute_result"
    }
   ],
   "source": [
    "list1, list2"
   ]
  },
  {
   "cell_type": "code",
   "execution_count": 141,
   "id": "a543199a",
   "metadata": {},
   "outputs": [],
   "source": [
    "list2[2] = 44"
   ]
  },
  {
   "cell_type": "code",
   "execution_count": 142,
   "id": "4db598b5",
   "metadata": {},
   "outputs": [
    {
     "data": {
      "text/plain": [
       "([1, 2, 33, 4, 'hgf'], [1, 2, 44, 4, 'hgf'])"
      ]
     },
     "execution_count": 142,
     "metadata": {},
     "output_type": "execute_result"
    }
   ],
   "source": [
    "list1, list2"
   ]
  },
  {
   "cell_type": "code",
   "execution_count": 143,
   "id": "780a3251",
   "metadata": {},
   "outputs": [],
   "source": [
    "#shallow copy in nested list\n",
    "list1 = [[1,2,33,4,'hgf'],[3,'hg',9,11]]\n",
    "list2 = list1.copy()"
   ]
  },
  {
   "cell_type": "code",
   "execution_count": 144,
   "id": "b47cc49f",
   "metadata": {},
   "outputs": [
    {
     "data": {
      "text/plain": [
       "([[1, 2, 33, 4, 'hgf'], [3, 'hg', 9, 11]],\n",
       " [[1, 2, 33, 4, 'hgf'], [3, 'hg', 9, 11]])"
      ]
     },
     "execution_count": 144,
     "metadata": {},
     "output_type": "execute_result"
    }
   ],
   "source": [
    "list1,list2"
   ]
  },
  {
   "cell_type": "code",
   "execution_count": 145,
   "id": "76abb5cd",
   "metadata": {},
   "outputs": [],
   "source": [
    "list2[1][0] = 23"
   ]
  },
  {
   "cell_type": "code",
   "execution_count": 146,
   "id": "f6739940",
   "metadata": {},
   "outputs": [
    {
     "data": {
      "text/plain": [
       "([[1, 2, 33, 4, 'hgf'], [23, 'hg', 9, 11]],\n",
       " [[1, 2, 33, 4, 'hgf'], [23, 'hg', 9, 11]])"
      ]
     },
     "execution_count": 146,
     "metadata": {},
     "output_type": "execute_result"
    }
   ],
   "source": [
    "list1,list2"
   ]
  },
  {
   "cell_type": "markdown",
   "id": "3fecac52",
   "metadata": {},
   "source": [
    "- A deep copy creates a new object and recursively adds the copies of nested objects present in the original elements.\n",
    "- If we change value in 1 list, the other list will not change.\n",
    "- In nested list also  if we change value in 1 list, values in other list does not change."
   ]
  },
  {
   "cell_type": "code",
   "execution_count": 147,
   "id": "4a565761",
   "metadata": {},
   "outputs": [],
   "source": [
    "# deep copy\n",
    "import copy\n",
    "list1 = [1,2,33,4,'hgf']\n",
    "list2 = copy.deepcopy(list1)"
   ]
  },
  {
   "cell_type": "code",
   "execution_count": 148,
   "id": "e2fc1399",
   "metadata": {},
   "outputs": [
    {
     "data": {
      "text/plain": [
       "([1, 2, 33, 4, 'hgf'], [1, 2, 33, 4, 'hgf'])"
      ]
     },
     "execution_count": 148,
     "metadata": {},
     "output_type": "execute_result"
    }
   ],
   "source": [
    "list1,list2"
   ]
  },
  {
   "cell_type": "code",
   "execution_count": 150,
   "id": "5e9f4050",
   "metadata": {},
   "outputs": [],
   "source": [
    "list2[2]= 44"
   ]
  },
  {
   "cell_type": "code",
   "execution_count": 151,
   "id": "7cb6bd20",
   "metadata": {},
   "outputs": [
    {
     "data": {
      "text/plain": [
       "([1, 2, 33, 4, 'hgf'], [1, 2, 44, 4, 'hgf'])"
      ]
     },
     "execution_count": 151,
     "metadata": {},
     "output_type": "execute_result"
    }
   ],
   "source": [
    "list1,list2"
   ]
  },
  {
   "cell_type": "code",
   "execution_count": 152,
   "id": "43fd77de",
   "metadata": {},
   "outputs": [],
   "source": [
    "#deep copy in nested list\n",
    "list1 = [[1,2,33,4,'hgf'],[3,'hg',9,11]]\n",
    "list2 = copy.deepcopy(list1)"
   ]
  },
  {
   "cell_type": "code",
   "execution_count": 153,
   "id": "a7cc4fb8",
   "metadata": {},
   "outputs": [],
   "source": [
    "list2[1][0] = 23"
   ]
  },
  {
   "cell_type": "code",
   "execution_count": 154,
   "id": "a3feca19",
   "metadata": {},
   "outputs": [
    {
     "data": {
      "text/plain": [
       "([[1, 2, 33, 4, 'hgf'], [3, 'hg', 9, 11]],\n",
       " [[1, 2, 33, 4, 'hgf'], [23, 'hg', 9, 11]])"
      ]
     },
     "execution_count": 154,
     "metadata": {},
     "output_type": "execute_result"
    }
   ],
   "source": [
    "list1,list2"
   ]
  },
  {
   "cell_type": "code",
   "execution_count": null,
   "id": "b62f201e",
   "metadata": {},
   "outputs": [],
   "source": []
  }
 ],
 "metadata": {
  "kernelspec": {
   "display_name": "Python 3",
   "language": "python",
   "name": "python3"
  },
  "language_info": {
   "codemirror_mode": {
    "name": "ipython",
    "version": 3
   },
   "file_extension": ".py",
   "mimetype": "text/x-python",
   "name": "python",
   "nbconvert_exporter": "python",
   "pygments_lexer": "ipython3",
   "version": "3.8.8"
  }
 },
 "nbformat": 4,
 "nbformat_minor": 5
}
