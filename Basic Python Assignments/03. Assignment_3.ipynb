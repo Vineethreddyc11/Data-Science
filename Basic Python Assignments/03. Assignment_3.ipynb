{
 "cells": [
  {
   "cell_type": "markdown",
   "id": "8d97d6be",
   "metadata": {},
   "source": [
    "## 1. Why are functions advantageous to have in your programs?"
   ]
  },
  {
   "cell_type": "markdown",
   "id": "4cc67f7f",
   "metadata": {},
   "source": [
    "- Reusability.\n",
    "- With the help of functions, we can avoid rewriting the same logic or code again and again in a program\n",
    "- It helps to divide the large programs into small groups so that we can read the code, and debug the program faster and better."
   ]
  },
  {
   "cell_type": "markdown",
   "id": "91ea2838",
   "metadata": {},
   "source": [
    "## 2. When does the code in a function run: when it&#39;s specified or when it&#39;s called?"
   ]
  },
  {
   "cell_type": "markdown",
   "id": "81858c6b",
   "metadata": {},
   "source": [
    "- The code in a function executes when the function is called"
   ]
  },
  {
   "cell_type": "markdown",
   "id": "c89a1493",
   "metadata": {},
   "source": [
    "## 3. What statement creates a function?"
   ]
  },
  {
   "cell_type": "markdown",
   "id": "78d9ea07",
   "metadata": {},
   "source": [
    "- A function is defined using the def keyword."
   ]
  },
  {
   "cell_type": "code",
   "execution_count": 1,
   "id": "3a9f6389",
   "metadata": {},
   "outputs": [],
   "source": [
    "##Syntax\n",
    "def function_name(parameters):\n",
    "    \"\"\"docstring\"\"\"\n",
    "    # body of the function\n",
    "    return expression"
   ]
  },
  {
   "cell_type": "code",
   "execution_count": 2,
   "id": "0bb4d0b9",
   "metadata": {},
   "outputs": [],
   "source": [
    "##Example\n",
    "def add(x,y):\n",
    "    return x+y"
   ]
  },
  {
   "cell_type": "code",
   "execution_count": 3,
   "id": "25c0ecb9",
   "metadata": {},
   "outputs": [
    {
     "data": {
      "text/plain": [
       "19"
      ]
     },
     "execution_count": 3,
     "metadata": {},
     "output_type": "execute_result"
    }
   ],
   "source": [
    "add(10,9)"
   ]
  },
  {
   "cell_type": "markdown",
   "id": "3a0e0b15",
   "metadata": {},
   "source": [
    "## 4. What is the difference between a function and a function call?"
   ]
  },
  {
   "cell_type": "code",
   "execution_count": 4,
   "id": "1a1287c2",
   "metadata": {},
   "outputs": [],
   "source": [
    "#Defining function\n",
    "def add(x,y):\n",
    "    return x+y"
   ]
  },
  {
   "cell_type": "code",
   "execution_count": 5,
   "id": "5c125d4a",
   "metadata": {},
   "outputs": [
    {
     "data": {
      "text/plain": [
       "19"
      ]
     },
     "execution_count": 5,
     "metadata": {},
     "output_type": "execute_result"
    }
   ],
   "source": [
    "##calling function\n",
    "add(10,9)"
   ]
  },
  {
   "cell_type": "markdown",
   "id": "c25fae95",
   "metadata": {},
   "source": [
    "- A function is a procedure to achieve a particular result while function call is used for this function to achive that task.\n"
   ]
  },
  {
   "cell_type": "markdown",
   "id": "43c355eb",
   "metadata": {},
   "source": [
    "## 5. How many global scopes are there in a Python program? How many local scopes?"
   ]
  },
  {
   "cell_type": "markdown",
   "id": "9f56b436",
   "metadata": {},
   "source": [
    "- There is one global scope, and a local scope is created whenever a function is called."
   ]
  },
  {
   "cell_type": "markdown",
   "id": "422149e5",
   "metadata": {},
   "source": [
    "## 6. What happens to variables in a local scope when the function call returns?"
   ]
  },
  {
   "cell_type": "markdown",
   "id": "2bee4380",
   "metadata": {},
   "source": [
    "- The local scope is destroyed, and all the variables in it are forgotten."
   ]
  },
  {
   "cell_type": "markdown",
   "id": "0102a129",
   "metadata": {},
   "source": [
    "## 7. What is the concept of a return value? Is it possible to have a return value in an expression?"
   ]
  },
  {
   "cell_type": "markdown",
   "id": "c841ef78",
   "metadata": {},
   "source": [
    "- A return statement is used to end the execution of the function call and “returns” the result (value of the expression following the return keyword). A return value can be used as part of an expression."
   ]
  },
  {
   "cell_type": "markdown",
   "id": "5f2e787b",
   "metadata": {},
   "source": [
    "## 8. If a function does not have a return statement, what is the return value of a call to that function?"
   ]
  },
  {
   "cell_type": "markdown",
   "id": "1626a8a4",
   "metadata": {},
   "source": [
    "- A function without an explicit return statement returns None."
   ]
  },
  {
   "cell_type": "markdown",
   "id": "633e071b",
   "metadata": {},
   "source": [
    "## 9. How do you make a function variable refer to the global variable?"
   ]
  },
  {
   "cell_type": "markdown",
   "id": "a5c0f820",
   "metadata": {},
   "source": [
    "- To refer to a global variable in a function, we can use the global keyword to declare which variables are global."
   ]
  },
  {
   "cell_type": "markdown",
   "id": "1b4ede6f",
   "metadata": {},
   "source": [
    "## 10. What is the data type of None?"
   ]
  },
  {
   "cell_type": "markdown",
   "id": "63b73e93",
   "metadata": {},
   "source": [
    "- NoneType"
   ]
  },
  {
   "cell_type": "code",
   "execution_count": 6,
   "id": "97113742",
   "metadata": {},
   "outputs": [
    {
     "data": {
      "text/plain": [
       "NoneType"
      ]
     },
     "execution_count": 6,
     "metadata": {},
     "output_type": "execute_result"
    }
   ],
   "source": [
    "type(None)"
   ]
  },
  {
   "cell_type": "markdown",
   "id": "3fba0590",
   "metadata": {},
   "source": [
    "## 11. What does the sentence import areallyourpetsnamederic do?"
   ]
  },
  {
   "cell_type": "markdown",
   "id": "4edce1c1",
   "metadata": {},
   "source": [
    "- It imports a module named areallyourpetsnamederic."
   ]
  },
  {
   "cell_type": "markdown",
   "id": "766ef093",
   "metadata": {},
   "source": [
    "## 12. If you had a bacon() feature in a spam module, what would you call it after importing spam?"
   ]
  },
  {
   "cell_type": "markdown",
   "id": "038a3a14",
   "metadata": {},
   "source": [
    "- spam.bacom()"
   ]
  },
  {
   "cell_type": "markdown",
   "id": "7adc8c9b",
   "metadata": {},
   "source": [
    "## 13. What can you do to save a programme from crashing if it encounters an error?"
   ]
  },
  {
   "cell_type": "markdown",
   "id": "66963449",
   "metadata": {},
   "source": [
    "- By using try and except statements we can save a programme from crashing."
   ]
  },
  {
   "cell_type": "markdown",
   "id": "c7847e6b",
   "metadata": {},
   "source": [
    "## 14. What is the purpose of the try clause? What is the purpose of the except clause?"
   ]
  },
  {
   "cell_type": "markdown",
   "id": "403244c6",
   "metadata": {},
   "source": [
    "- The try block is used to check code for errors i.e the code inside the try block will execute when there is no error in the program.\n",
    "- Whereas the code inside the except block will execute whenever the program encounters some error in the preceding try block."
   ]
  },
  {
   "cell_type": "code",
   "execution_count": null,
   "id": "3cc9406b",
   "metadata": {},
   "outputs": [],
   "source": [
    "try:\n",
    "    # Some Code\n",
    "except:\n",
    "    # Executed if error in the try block"
   ]
  }
 ],
 "metadata": {
  "kernelspec": {
   "display_name": "Python 3",
   "language": "python",
   "name": "python3"
  },
  "language_info": {
   "codemirror_mode": {
    "name": "ipython",
    "version": 3
   },
   "file_extension": ".py",
   "mimetype": "text/x-python",
   "name": "python",
   "nbconvert_exporter": "python",
   "pygments_lexer": "ipython3",
   "version": "3.8.8"
  }
 },
 "nbformat": 4,
 "nbformat_minor": 5
}
